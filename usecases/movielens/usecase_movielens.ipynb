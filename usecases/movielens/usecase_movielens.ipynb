{
 "cells": [
  {
   "cell_type": "markdown",
   "metadata": {},
   "source": [
    "<h1>MovieLens 25M</h1>"
   ]
  },
  {
   "cell_type": "markdown",
   "metadata": {},
   "source": [
    "<hr>\n",
    "<h2>0. Introduction</h2>\n",
    "\n",
    "<p>This dataset describes 5-star rating and free-text tagging activity from MovieLens (https://movielens.org), a movie recommendation service. The dataset is available for download at https://grouplens.org/datasets/movielens/25m/.</p>\n",
    "\n",
    "<p>The explored version here is the MovieLes 25M Dataset, a stable benchamrk version, with 25 million ratings and one million tag applications applied to 62,000 movies by 162,000 users. Includes tag genome data with 15 million relevance scores across 1,129 tags. Released 12/2019.</p>\n",
    "\n",
    "<p>We could discover more information by just reading the dataset's README file, but we are not doing that since the purpose of this notebook is analyzing the exploration process.</p>"
   ]
  },
  {
   "cell_type": "markdown",
   "metadata": {},
   "source": [
    "<h2>1. Reading Data</h2>\n",
    "\n",
    "<p>The first step in the exploration process is loading your data to be able to analyze it with your selected tool. Actually, one could argue the first step is ingesting or obtaining this data, but we are not concerned with this part here.</p>\n",
    "\n",
    "<p>Assuming we already have our data available, let's start by loading it.</p>"
   ]
  },
  {
   "cell_type": "code",
   "execution_count": 1,
   "metadata": {},
   "outputs": [
    {
     "name": "stdout",
     "output_type": "stream",
     "text": [
      "genome-scores.csv  links.csv   ratings.csv\n",
      "genome-tags.csv    movies.csv  tags.csv\n"
     ]
    }
   ],
   "source": [
    "# Viewing what is in the directory\n",
    "!cd ml-25m; ls"
   ]
  },
  {
   "cell_type": "markdown",
   "metadata": {},
   "source": [
    "Here, we can see the data is in the ml-25m directory, and is composed by multiple csv files. Let's load them all at once."
   ]
  },
  {
   "cell_type": "code",
   "execution_count": 2,
   "metadata": {},
   "outputs": [],
   "source": [
    "# Importing stuff\n",
    "import os\n",
    "import numpy as np\n",
    "import pandas as pd"
   ]
  },
  {
   "cell_type": "code",
   "execution_count": 3,
   "metadata": {},
   "outputs": [],
   "source": [
    "dataframes_names = ['genome-scores', 'genome-tags', 'links', 'movies', 'ratings', 'tags']\n",
    "\n",
    "def read_multiple_csv(filepath, df_names=None):\n",
    "\n",
    "    '''\n",
    "    Improved version of pd.read_csv, which can read multiple files in a directory\n",
    "    If df_names == None, it iterates the whole directory.\n",
    "    \n",
    "    Receives the path and optionally a list of the dataframes names.\n",
    "    Returns a dict of the names and dataframes.\n",
    "    \n",
    "    uses import os, pandas as pd\n",
    "    the folder should have only csv files, no .txt\n",
    "    '''\n",
    "    \n",
    "    df_list = []\n",
    "    \n",
    "    # Here the function uses the names of the dataframes to read the files\n",
    "    if df_names is not None:\n",
    "        for i in range(len(df_names)):\n",
    "            temp_df = pd.read_csv(filepath + df_names[i] + '.csv')\n",
    "            df_list.append(temp_df)\n",
    "    \n",
    "    # If names are not given, the function just reads all data in folder\n",
    "    else:\n",
    "        df_names = []\n",
    "        path, dirs, files = next(os.walk(filepath))\n",
    "        file_count = len(files)\n",
    "        for i in range(file_count):\n",
    "            temp_df = pd.read_csv(filepath + files[i])\n",
    "            df_list.append(temp_df)\n",
    "            df_names.append(files[i][:-4])\n",
    "    \n",
    "    df_dict = dict(zip(df_names, df_list))\n",
    "    \n",
    "    return df_dict"
   ]
  },
  {
   "cell_type": "code",
   "execution_count": 4,
   "metadata": {},
   "outputs": [
    {
     "name": "stdout",
     "output_type": "stream",
     "text": [
      "dict_keys(['movies', 'genome-tags', 'genome-scores', 'tags', 'links', 'ratings'])\n"
     ]
    }
   ],
   "source": [
    "dataframes = read_multiple_csv('./ml-25m/')\n",
    "print(dataframes.keys())"
   ]
  },
  {
   "cell_type": "code",
   "execution_count": 5,
   "metadata": {},
   "outputs": [
    {
     "data": {
      "text/html": [
       "<div>\n",
       "<style scoped>\n",
       "    .dataframe tbody tr th:only-of-type {\n",
       "        vertical-align: middle;\n",
       "    }\n",
       "\n",
       "    .dataframe tbody tr th {\n",
       "        vertical-align: top;\n",
       "    }\n",
       "\n",
       "    .dataframe thead th {\n",
       "        text-align: right;\n",
       "    }\n",
       "</style>\n",
       "<table border=\"1\" class=\"dataframe\">\n",
       "  <thead>\n",
       "    <tr style=\"text-align: right;\">\n",
       "      <th></th>\n",
       "      <th>movieId</th>\n",
       "      <th>title</th>\n",
       "      <th>genres</th>\n",
       "    </tr>\n",
       "  </thead>\n",
       "  <tbody>\n",
       "    <tr>\n",
       "      <th>0</th>\n",
       "      <td>1</td>\n",
       "      <td>Toy Story (1995)</td>\n",
       "      <td>Adventure|Animation|Children|Comedy|Fantasy</td>\n",
       "    </tr>\n",
       "    <tr>\n",
       "      <th>1</th>\n",
       "      <td>2</td>\n",
       "      <td>Jumanji (1995)</td>\n",
       "      <td>Adventure|Children|Fantasy</td>\n",
       "    </tr>\n",
       "    <tr>\n",
       "      <th>2</th>\n",
       "      <td>3</td>\n",
       "      <td>Grumpier Old Men (1995)</td>\n",
       "      <td>Comedy|Romance</td>\n",
       "    </tr>\n",
       "    <tr>\n",
       "      <th>3</th>\n",
       "      <td>4</td>\n",
       "      <td>Waiting to Exhale (1995)</td>\n",
       "      <td>Comedy|Drama|Romance</td>\n",
       "    </tr>\n",
       "    <tr>\n",
       "      <th>4</th>\n",
       "      <td>5</td>\n",
       "      <td>Father of the Bride Part II (1995)</td>\n",
       "      <td>Comedy</td>\n",
       "    </tr>\n",
       "    <tr>\n",
       "      <th>...</th>\n",
       "      <td>...</td>\n",
       "      <td>...</td>\n",
       "      <td>...</td>\n",
       "    </tr>\n",
       "    <tr>\n",
       "      <th>62418</th>\n",
       "      <td>209157</td>\n",
       "      <td>We (2018)</td>\n",
       "      <td>Drama</td>\n",
       "    </tr>\n",
       "    <tr>\n",
       "      <th>62419</th>\n",
       "      <td>209159</td>\n",
       "      <td>Window of the Soul (2001)</td>\n",
       "      <td>Documentary</td>\n",
       "    </tr>\n",
       "    <tr>\n",
       "      <th>62420</th>\n",
       "      <td>209163</td>\n",
       "      <td>Bad Poems (2018)</td>\n",
       "      <td>Comedy|Drama</td>\n",
       "    </tr>\n",
       "    <tr>\n",
       "      <th>62421</th>\n",
       "      <td>209169</td>\n",
       "      <td>A Girl Thing (2001)</td>\n",
       "      <td>(no genres listed)</td>\n",
       "    </tr>\n",
       "    <tr>\n",
       "      <th>62422</th>\n",
       "      <td>209171</td>\n",
       "      <td>Women of Devil's Island (1962)</td>\n",
       "      <td>Action|Adventure|Drama</td>\n",
       "    </tr>\n",
       "  </tbody>\n",
       "</table>\n",
       "<p>62423 rows × 3 columns</p>\n",
       "</div>"
      ],
      "text/plain": [
       "       movieId                               title  \\\n",
       "0            1                    Toy Story (1995)   \n",
       "1            2                      Jumanji (1995)   \n",
       "2            3             Grumpier Old Men (1995)   \n",
       "3            4            Waiting to Exhale (1995)   \n",
       "4            5  Father of the Bride Part II (1995)   \n",
       "...        ...                                 ...   \n",
       "62418   209157                           We (2018)   \n",
       "62419   209159           Window of the Soul (2001)   \n",
       "62420   209163                    Bad Poems (2018)   \n",
       "62421   209169                 A Girl Thing (2001)   \n",
       "62422   209171      Women of Devil's Island (1962)   \n",
       "\n",
       "                                            genres  \n",
       "0      Adventure|Animation|Children|Comedy|Fantasy  \n",
       "1                       Adventure|Children|Fantasy  \n",
       "2                                   Comedy|Romance  \n",
       "3                             Comedy|Drama|Romance  \n",
       "4                                           Comedy  \n",
       "...                                            ...  \n",
       "62418                                        Drama  \n",
       "62419                                  Documentary  \n",
       "62420                                 Comedy|Drama  \n",
       "62421                           (no genres listed)  \n",
       "62422                       Action|Adventure|Drama  \n",
       "\n",
       "[62423 rows x 3 columns]"
      ]
     },
     "execution_count": 5,
     "metadata": {},
     "output_type": "execute_result"
    }
   ],
   "source": [
    "list(dataframes.values())[0]"
   ]
  },
  {
   "cell_type": "markdown",
   "metadata": {},
   "source": [
    "<h2>2. Dataset Description</h2>\n",
    "\n",
    "<p>Now we can actually work with our dataframes. Our first step will be checking for missing values in the dataframes and uniformizing the missing values.</p>"
   ]
  },
  {
   "cell_type": "markdown",
   "metadata": {},
   "source": [
    "<i>Notes: Detect type of each column using nlp to infer the type by the name, uniformize name format, find if there are missing values, replace all missing values with a single type of null representation, describe the dataset statistically, check the amount of available data with each column and the intersection amount (amount of available data on rows that have all data or rows that have data on specific columns set by the user.</i>"
   ]
  },
  {
   "cell_type": "code",
   "execution_count": 156,
   "metadata": {},
   "outputs": [],
   "source": [
    "import time"
   ]
  },
  {
   "cell_type": "code",
   "execution_count": 166,
   "metadata": {},
   "outputs": [
    {
     "name": "stdout",
     "output_type": "stream",
     "text": [
      "Execution time: 1.0507614612579346 seconds\n",
      "Execution time: 0.2858912944793701 seconds\n"
     ]
    }
   ],
   "source": [
    "# first version of the function\n",
    "\n",
    "def multiple_missing_values_for_time(dataframes_dict):\n",
    "    '''\n",
    "    receives dataframes_dict, a dictionary with the keys being the names of the dataframes\n",
    "    and the values being the dataframes\n",
    "    \n",
    "    returns a list of dataframes with each showing the amount of missing values from each\n",
    "    column of each original dataframe\n",
    "    '''\n",
    "    start_time = time.time() # checking speed\n",
    "    missing_values_df_list = []\n",
    "    \n",
    "    for df_name, df in dataframes_dict.items():\n",
    "        missing_values_df = {}\n",
    "        \n",
    "        for i, value in enumerate(df):\n",
    "            df_missing_values = df.isnull().sum()\n",
    "            missing_values_df[str(list(df_missing_values.index)[i])] = list(df_missing_values.values)[i]\n",
    "                \n",
    "        missing_values_df = pd.DataFrame(missing_values_df, index=['missing'])\n",
    "        missing_values_df_list.append(missing_values_df)\n",
    "        \n",
    "    return 'Execution time: {0} seconds'.format(time.time() - start_time) # should actually return missing_values_df_list\n",
    "\n",
    "# now vectorizing the inner for loop\n",
    "\n",
    "def multiple_missing_values_time(dataframes_dict):\n",
    "    '''\n",
    "    receives dataframes_dict, a dictionary with the keys being the names of the dataframes\n",
    "    and the values being the dataframes\n",
    "    \n",
    "    returns a list of dataframes with each showing the amount of missing values from each\n",
    "    column of each original dataframe\n",
    "    '''\n",
    "    start_time = time.time() # checking speed\n",
    "    missing_values_df_list = []\n",
    "    \n",
    "    for df_name, df in dataframes_dict.items():\n",
    "        # computing and storing missing values\n",
    "        df_missing_values = df.isnull().sum()\n",
    "        \n",
    "        # now an array with the columns names and values is created \n",
    "        missing_values_df = np.array((df_missing_values.index, df_missing_values.values))\n",
    "        \n",
    "        # finally, a dataframe is created out of this array and appended to the missing_values_list\n",
    "        missing_values_df_list.append(pd.DataFrame([missing_values_df[1]], columns=missing_values_df[0], index=['missing']))\n",
    "    \n",
    "    return ('Execution time: {0} seconds'.format(time.time() - start_time)) # should actually return missing_values_df_list\n",
    "\n",
    "\n",
    "print(multiple_missing_values_for_time(dataframes))\n",
    "print(multiple_missing_values_time(dataframes))"
   ]
  },
  {
   "cell_type": "markdown",
   "metadata": {},
   "source": [
    "The vectorized version is 5 times as fast as the other one due to the parallel computing implementation of numpy, so that's the one we'll keep."
   ]
  },
  {
   "cell_type": "code",
   "execution_count": 168,
   "metadata": {},
   "outputs": [],
   "source": [
    "def multiple_missing_values(dataframes_dict):\n",
    "    '''\n",
    "    receives dataframes_dict, a dictionary with the keys being the names of the dataframes\n",
    "    and the values being the dataframes\n",
    "    \n",
    "    returns a list of dataframes with each showing the amount of missing values from each\n",
    "    column of each original dataframe\n",
    "    '''\n",
    "    missing_values_df_list = []\n",
    "    \n",
    "    for df_name, df in dataframes_dict.items():\n",
    "        # computing and storing missing values\n",
    "        df_missing_values = df.isnull().sum()\n",
    "        \n",
    "        # now an array with the columns names and values is created \n",
    "        missing_values_df = np.array((df_missing_values.index, df_missing_values.values))\n",
    "        \n",
    "        # finally, a dataframe is created out of this array and appended to the missing_values_list\n",
    "        missing_values_df_list.append(pd.DataFrame([missing_values_df[1]], columns=missing_values_df[0], index=['missing']))\n",
    "    \n",
    "    return missing_values_df_list\n"
   ]
  },
  {
   "cell_type": "code",
   "execution_count": 170,
   "metadata": {},
   "outputs": [
    {
     "data": {
      "text/html": [
       "<div>\n",
       "<style scoped>\n",
       "    .dataframe tbody tr th:only-of-type {\n",
       "        vertical-align: middle;\n",
       "    }\n",
       "\n",
       "    .dataframe tbody tr th {\n",
       "        vertical-align: top;\n",
       "    }\n",
       "\n",
       "    .dataframe thead th {\n",
       "        text-align: right;\n",
       "    }\n",
       "</style>\n",
       "<table border=\"1\" class=\"dataframe\">\n",
       "  <thead>\n",
       "    <tr style=\"text-align: right;\">\n",
       "      <th></th>\n",
       "      <th>movieId</th>\n",
       "      <th>title</th>\n",
       "      <th>genres</th>\n",
       "    </tr>\n",
       "  </thead>\n",
       "  <tbody>\n",
       "    <tr>\n",
       "      <th>missing</th>\n",
       "      <td>0</td>\n",
       "      <td>0</td>\n",
       "      <td>0</td>\n",
       "    </tr>\n",
       "  </tbody>\n",
       "</table>\n",
       "</div>"
      ],
      "text/plain": [
       "         movieId  title  genres\n",
       "missing        0      0       0"
      ]
     },
     "metadata": {},
     "output_type": "display_data"
    }
   ],
   "source": [
    "display(multiple_missing_values(dataframes)[0])"
   ]
  },
  {
   "cell_type": "code",
   "execution_count": null,
   "metadata": {},
   "outputs": [],
   "source": []
  }
 ],
 "metadata": {
  "kernelspec": {
   "display_name": "Python 3",
   "language": "python",
   "name": "python3"
  },
  "language_info": {
   "codemirror_mode": {
    "name": "ipython",
    "version": 3
   },
   "file_extension": ".py",
   "mimetype": "text/x-python",
   "name": "python",
   "nbconvert_exporter": "python",
   "pygments_lexer": "ipython3",
   "version": "3.8.3"
  }
 },
 "nbformat": 4,
 "nbformat_minor": 4
}
